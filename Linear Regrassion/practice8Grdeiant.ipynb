{
 "cells": [
  {
   "cell_type": "code",
   "execution_count": 22,
   "metadata": {},
   "outputs": [],
   "source": [
    "import numpy as np\n",
    "import pandas as pd \n",
    "import matplotlib.pyplot as plt\n",
    "from sklearn.linear_model import LinearRegression\n",
    "import seaborn as sns\n",
    "from sklearn.preprocessing import PolynomialFeatures\n",
    "from sklearn.model_selection import train_test_split"
   ]
  },
  {
   "cell_type": "code",
   "execution_count": 23,
   "metadata": {},
   "outputs": [],
   "source": [
    "def fit_model(x, b):\n",
    "    n = len(x)\n",
    "    x_bias = np.ones((n, 1))\n",
    "    x = np.c_[x_bias, x]\n",
    "    y_hat = x.dot(b)\n",
    "    return y_hat\n",
    "\n",
    "\n",
    "def find_betas(x, y):\n",
    "    n = len(x)\n",
    "    x_bias = np.ones((n, 1))\n",
    "    x = np.c_[x_bias, x]\n",
    "    betas = np.linalg.inv(x.T.dot(x)).dot(x.T).dot(y)\n",
    "    return betas\n",
    "\n",
    "\n",
    "def predict(x, betas):\n",
    "    n = len(x)\n",
    "    x_bias = np.ones((n, 1))\n",
    "    x = np.c_[x_bias, x]\n",
    "    prediction = x.dot(betas)\n",
    "    return prediction\n",
    "\n",
    "\n",
    "def square_error(y, y_hat):\n",
    "    error = y - y_hat\n",
    "    square = error.T.dot(error)\n",
    "    return square\n",
    "\n",
    "def simple_gradeiant_descent1 (alpha,iters,x,y) :\n",
    "    m = len(x)\n",
    "    b0 = 0\n",
    "    b1 = 0\n",
    "    for i in range(iters):\n",
    "        y_hat = b0 + x*b1\n",
    "        b0 = b0 - alpha * 1/m * sum(y_hat - y)\n",
    "        b1 = b1 - alpha * 1/m * sum((y_hat - y) * x)\n",
    "\n",
    "    return b0 , b1\n",
    "\n",
    "def gradeiant_descent (alpha,iters,x,y) :\n",
    "    m = x.shape[0]\n",
    "    k = x.shape[1]\n",
    "    x_bais = np.ones((m,1))\n",
    "    x = np.c_[x_bais,x]\n",
    "    betas = np.random.randn(k+1,1)\n",
    "    print(x.shape,y.shape,betas.shape)\n",
    "    for i in range (iters):\n",
    "        betas = betas - alpha * 2/m * x.T.dot(x.dot(betas)-y)\n",
    "    return betas "
   ]
  },
  {
   "cell_type": "code",
   "execution_count": 24,
   "metadata": {},
   "outputs": [
    {
     "data": {
      "text/plain": [
       "(100, 1)"
      ]
     },
     "execution_count": 24,
     "metadata": {},
     "output_type": "execute_result"
    }
   ],
   "source": [
    "x = np.random.randn(100,5)\n",
    "y = 15*x + 13 + 2*np.random.randn(100,5)\n",
    "y = y[0:,0:1]\n",
    "y.shape"
   ]
  },
  {
   "cell_type": "code",
   "execution_count": 25,
   "metadata": {},
   "outputs": [
    {
     "name": "stdout",
     "output_type": "stream",
     "text": [
      "(100, 6) (100, 1) (6, 1)\n"
     ]
    },
    {
     "data": {
      "text/plain": [
       "array([[13.27856821],\n",
       "       [15.2764324 ],\n",
       "       [ 0.09897232],\n",
       "       [-0.26031363],\n",
       "       [ 0.29543145],\n",
       "       [ 0.13329286]])"
      ]
     },
     "execution_count": 25,
     "metadata": {},
     "output_type": "execute_result"
    }
   ],
   "source": [
    "betas = gradeiant_descent(0.1,6000,x,y)\n",
    "betas"
   ]
  },
  {
   "cell_type": "code",
   "execution_count": 26,
   "metadata": {},
   "outputs": [
    {
     "data": {
      "text/plain": [
       "array([[13.27856821],\n",
       "       [15.2764324 ],\n",
       "       [ 0.09897232],\n",
       "       [-0.26031363],\n",
       "       [ 0.29543145],\n",
       "       [ 0.13329286]])"
      ]
     },
     "execution_count": 26,
     "metadata": {},
     "output_type": "execute_result"
    }
   ],
   "source": [
    "betas = find_betas(x,y)\n",
    "betas"
   ]
  },
  {
   "cell_type": "code",
   "execution_count": 27,
   "metadata": {},
   "outputs": [],
   "source": [
    "def simple_gradient_descent(alpha,iterations,x,y):\n",
    "    m = len(x)\n",
    "    b0 = 0\n",
    "    b1 = 0\n",
    "    for i in range(iterations):\n",
    "        y_hat = b0 + b1 * x \n",
    "        b0 = b0 - alpha * 1/m * sum(y_hat - y)\n",
    "        b1 = b1 - alpha * 1/m * sum((y_hat - y) * x)\n",
    "    return b0, b1"
   ]
  },
  {
   "cell_type": "code",
   "execution_count": 28,
   "metadata": {},
   "outputs": [
    {
     "name": "stdout",
     "output_type": "stream",
     "text": [
      "[13.26526936 14.30404776 14.38357936 14.26687071 13.97887145]\n",
      "[15.35071518 -0.08864689 -1.03784037  1.76932922  3.85285704]\n"
     ]
    }
   ],
   "source": [
    "betas = simple_gradient_descent(0.1,1000,x,y)\n",
    "print(b0)\n",
    "print(b1)"
   ]
  },
  {
   "cell_type": "code",
   "execution_count": null,
   "metadata": {},
   "outputs": [],
   "source": []
  }
 ],
 "metadata": {
  "kernelspec": {
   "display_name": "base",
   "language": "python",
   "name": "python3"
  },
  "language_info": {
   "codemirror_mode": {
    "name": "ipython",
    "version": 3
   },
   "file_extension": ".py",
   "mimetype": "text/x-python",
   "name": "python",
   "nbconvert_exporter": "python",
   "pygments_lexer": "ipython3",
   "version": "3.11.3"
  },
  "orig_nbformat": 4
 },
 "nbformat": 4,
 "nbformat_minor": 2
}
